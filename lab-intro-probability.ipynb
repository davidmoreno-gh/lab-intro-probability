{
 "cells": [
  {
   "cell_type": "markdown",
   "metadata": {},
   "source": [
    "# Lab | Intro to Probability"
   ]
  },
  {
   "cell_type": "markdown",
   "metadata": {},
   "source": [
    "**Objective**\n",
    "\n",
    "Welcome to this Intro to Probability lab, where we explore decision-making scenarios through the lens of probability and strategic analysis. In the business world, making informed decisions is crucial, especially when faced with uncertainties. This lab focuses on scenarios where probabilistic outcomes play a significant role in shaping strategies and outcomes. Students will engage in exercises that require assessing and choosing optimal paths based on data-driven insights. The goal is to enhance your skills by applying probability concepts to solve real-world problems."
   ]
  },
  {
   "cell_type": "markdown",
   "metadata": {},
   "source": [
    "**Challenge 1**"
   ]
  },
  {
   "cell_type": "markdown",
   "metadata": {},
   "source": [
    "#### Ironhack Airlines \n",
    "\n",
    "Often Airlines sell more tickets than they have seats available, this is called overbooking. Consider the following:\n",
    "- A plane has 450 seats. \n",
    "- Based on historical data we conclude that each individual passenger has a 3% chance of missing it's flight. \n",
    "\n",
    "If the Ironhack Airlines routinely sells 460 tickets, what is the chance that they have a seats for all passenger?"
   ]
  },
  {
   "cell_type": "code",
   "execution_count": null,
   "metadata": {},
   "outputs": [],
   "source": [
    "import scipy.stats as stats\n",
    "\n",
    "# Parámetros\n",
    "n = 460  # número de boletos vendidos\n",
    "p = 0.97  # probabilidad de que un pasajero se presente\n",
    "\n",
    "# Calculamos la probabilidad de que más de 450 pasajeros se presenten\n",
    "prob = 1 - stats.binom.cdf(450, n, p)\n",
    "print(f'Probabilidad de que no haya asientos suficientes: {prob:.4f}')"
   ]
  },
  {
   "cell_type": "markdown",
   "metadata": {},
   "source": [
    "**Challenge 2**"
   ]
  },
  {
   "cell_type": "markdown",
   "metadata": {},
   "source": [
    "#### Ironhack Call Center "
   ]
  },
  {
   "cell_type": "markdown",
   "metadata": {},
   "source": [
    "Suppose a customer service representative at a call center is handling customer complaints. Consider the following:\n",
    "- The probability of successfully resolving a customer complaint on the first attempt is 0.3. \n",
    "\n",
    "\n",
    "What is the probability that the representative needs to make at least three attempts before successfully resolving a customer complaint?"
   ]
  },
  {
   "cell_type": "code",
   "execution_count": 5,
   "metadata": {},
   "outputs": [],
   "source": [
    "# Parámetros\n",
    "p = 0.3  # probabilidad de éxito en el primer intento\n",
    "\n",
    "# Calculamos la probabilidad de que se necesiten al menos 3 intentos\n",
    "prob = (1 - p) ** 2\n",
    "print(f'Probabilidad de necesitar al menos tres intentos: {prob:.4f}')"
   ]
  },
  {
   "cell_type": "markdown",
   "metadata": {},
   "source": [
    "**Challenge 3**"
   ]
  },
  {
   "cell_type": "markdown",
   "metadata": {},
   "source": [
    "#### Ironhack Website"
   ]
  },
  {
   "cell_type": "markdown",
   "metadata": {},
   "source": [
    "Consider a scenario related to Ironhack website traffic. Where:\n",
    "- our website takes on average 500 visits per hour.\n",
    "- the website's server is designed to handle up to 550 vists per hour.\n",
    "\n",
    "\n",
    "What is the probability of the website server being overwhelmed?"
   ]
  },
  {
   "cell_type": "code",
   "execution_count": 6,
   "metadata": {},
   "outputs": [],
   "source": [
    "import numpy as np\n",
    "\n",
    "# Parámetros\n",
    "lambda_hour = 500  # visitas por hora\n",
    "threshold = 550  # capacidad del servidor\n",
    "\n",
    "# Probabilidad de que el servidor sea sobrecargado en una hora\n",
    "prob_hour = 1 - stats.poisson.cdf(threshold, lambda_hour)\n",
    "print(f'Probabilidad de sobrecarga en una hora: {prob_hour:.4f}')\n",
    "\n",
    "# Probabilidad de que el servidor sea sobrecargado en algún momento del día (24 horas)\n",
    "prob_day = 1 - (1 - prob_hour) ** 24\n",
    "print(f'Probabilidad de sobrecarga en algún momento del día: {prob_day:.4f}')"
   ]
  },
  {
   "cell_type": "markdown",
   "metadata": {},
   "source": [
    "What is the probability of being overwhelmed at some point during a day? (consider 24hours)"
   ]
  },
  {
   "cell_type": "code",
   "execution_count": 7,
   "metadata": {},
   "outputs": [],
   "source": [
    "# Parámetros\n",
    "lambda_min = 1 / 10  # tasa de llegada de clientes (1 cada 10 minutos)\n",
    "\n",
    "# Probabilidad de que el próximo cliente llegue en los próximos 5 minutos\n",
    "prob_5min = 1 - np.exp(-lambda_min * 5)\n",
    "print(f'Probabilidad de que el próximo cliente llegue en los próximos 5 minutos: {prob_5min:.4f}')\n",
    "\n",
    "# Probabilidad de que no haya cliente en 15 minutos\n",
    "prob_15min = np.exp(-lambda_min * 15)\n",
    "print(f'Probabilidad de que no haya cliente en 15 minutos: {prob_15min:.4f}')"
   ]
  },
  {
   "cell_type": "markdown",
   "metadata": {},
   "source": [
    "**Challenge 4**"
   ]
  },
  {
   "cell_type": "markdown",
   "metadata": {},
   "source": [
    "#### Ironhack Helpdesk"
   ]
  },
  {
   "cell_type": "markdown",
   "metadata": {},
   "source": [
    "Consider a scenario related to the time between arrivals of customers at a service desk.\n",
    "\n",
    "On average, a customers arrives every 10minutes.\n",
    "\n",
    "What is the probability that the next customer will arrive within the next 5 minutes?"
   ]
  },
  {
   "cell_type": "code",
   "execution_count": null,
   "metadata": {},
   "outputs": [],
   "source": [
    "# Parámetros\n",
    "lambda_min = 1 / 10  # tasa de llegada de clientes (1 cada 10 minutos)\n",
    "\n",
    "# Probabilidad de que el próximo cliente llegue en los próximos 5 minutos\n",
    "prob_5min = 1 - np.exp(-lambda_min * 5)\n",
    "print(f'Probabilidad de que el próximo cliente llegue en los próximos 5 minutos: {prob_5min:.4f}')"
   ]
  },
  {
   "cell_type": "markdown",
   "metadata": {},
   "source": [
    "If there is no customer for 15minutes, employees can that a 5minutes break.\n",
    "\n",
    "What is the probability an employee taking a break?"
   ]
  },
  {
   "cell_type": "code",
   "execution_count": null,
   "metadata": {},
   "outputs": [],
   "source": [
    "# Probabilidad de que no haya cliente en 15 minutos\n",
    "prob_15min = np.exp(-lambda_min * 15)\n",
    "print(f'Probabilidad de que no haya cliente en 15 minutos: {prob_15min:.4f}')"
   ]
  },
  {
   "cell_type": "markdown",
   "metadata": {},
   "source": [
    "**Challenge 5**"
   ]
  },
  {
   "cell_type": "markdown",
   "metadata": {},
   "source": [
    "The weights of a certain species of birds follow a normal distribution with a mean weight of 150 grams and a standard deviation of 10 grams. \n",
    "\n",
    "- If we randomly select a bird, what is the probability that its weight is between 140 and 160 grams?"
   ]
  },
  {
   "cell_type": "code",
   "execution_count": null,
   "metadata": {},
   "outputs": [],
   "source": [
    "# Parámetros\n",
    "mu = 150  # media\n",
    "sigma = 10  # desviación estándar\n",
    "\n",
    "# Calculamos la probabilidad de que el peso esté entre 140 y 160 gramos\n",
    "prob = stats.norm.cdf(160, mu, sigma) - stats.norm.cdf(140, mu, sigma)\n",
    "print(f'Probabilidad de que el peso esté entre 140 y 160 gramos: {prob:.4f}')"
   ]
  },
  {
   "cell_type": "markdown",
   "metadata": {},
   "source": [
    "**Challenge 6**"
   ]
  },
  {
   "cell_type": "markdown",
   "metadata": {},
   "source": [
    "If the lifetime (in hours) of a certain electronic component follows an exponential distribution with a mean lifetime of 50 hours, what is the probability that the component fails within the first 30 hours?"
   ]
  },
  {
   "cell_type": "code",
   "execution_count": null,
   "metadata": {},
   "outputs": [],
   "source": [
    "# Parámetros\n",
    "lambda_hours = 1 / 50  # tasa de fallos (1 cada 50 horas)\n",
    "\n",
    "# Probabilidad de que el componente falle dentro de las primeras 30 horas\n",
    "prob_fail_30 = 1 - np.exp(-lambda_hours * 30)\n",
    "print(f'Probabilidad de que el componente falle dentro de las primeras 30 horas: {prob_fail_30:.4f}')"
   ]
  }
 ],
 "metadata": {
  "kernelspec": {
   "display_name": "Python 3",
   "language": "python",
   "name": "python3"
  },
  "language_info": {
   "codemirror_mode": {
    "name": "ipython",
    "version": 3
   },
   "file_extension": ".py",
   "mimetype": "text/x-python",
   "name": "python",
   "nbconvert_exporter": "python",
   "pygments_lexer": "ipython3",
   "version": "3.10.9"
  }
 },
 "nbformat": 4,
 "nbformat_minor": 2
}
